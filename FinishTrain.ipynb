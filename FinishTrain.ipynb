{
 "cells": [
  {
   "cell_type": "code",
   "execution_count": null,
   "metadata": {},
   "outputs": [],
   "source": [
    "\n",
    "# prepare image for the model\n",
    "inputs = processor(images=image, return_tensors=\"pt\").to(device, torch.float16)\n",
    "pixel_values = inputs.pixel_values\n",
    "\n",
    "generated_ids = model.generate(pixel_values=pixel_values, max_length=25)\n",
    "generated_caption = processor.batch_decode(generated_ids, skip_special_tokens=True)[0]\n",
    "print(generated_caption)"
   ]
  },
  {
   "cell_type": "code",
   "execution_count": null,
   "metadata": {},
   "outputs": [],
   "source": [
    "#Push to Hub\n",
    "\n",
    "from huggingface_hub import notebook_login\n",
    "\n",
    "notebook_login()"
   ]
  },
  {
   "cell_type": "code",
   "execution_count": null,
   "metadata": {},
   "outputs": [],
   "source": [
    "model.push_to_hub(\"shadowtime/blip-data\")\n",
    "     "
   ]
  },
  {
   "cell_type": "code",
   "execution_count": null,
   "metadata": {},
   "outputs": [],
   "source": [
    "#Load From The Hub\n",
    "\n",
    "from transformers import Blip2ForConditionalGeneration, AutoProcessor\n",
    "from peft import PeftModel, PeftConfig\n",
    "\n",
    "peft_model_id = \"shadowtime/blip-data\"\n",
    "config = PeftConfig.from_pretrained(peft_model_id)\n",
    "\n",
    "model = Blip2ForConditionalGeneration.from_pretrained(config.base_model_name_or_path, load_in_8bit=True, device_map=\"auto\")\n",
    "model = PeftModel.from_pretrained(model, peft_model_id)\n",
    "\n",
    "processor = AutoProcessor.from_pretrained(\"Salesforce/blip2-opt-2.7b\")"
   ]
  },
  {
   "cell_type": "code",
   "execution_count": null,
   "metadata": {},
   "outputs": [],
   "source": [
    "#all of them images captioning\n",
    "\n",
    "import torch\n",
    "from matplotlib import pyplot as plt\n",
    "\n",
    "device = \"cuda\" if torch.cuda.is_available() else \"cpu\"\n",
    "\n",
    "fig = plt.figure(figsize=(18, 14))\n",
    "\n",
    "# prepare image for the model\n",
    "for i, example in enumerate(dataset):\n",
    "  image = example[\"image\"]\n",
    "  inputs = processor(images=image, return_tensors=\"pt\").to(device, torch.float16)\n",
    "  pixel_values = inputs.pixel_values\n",
    "\n",
    "  generated_ids = model.generate(pixel_values=pixel_values, max_length=25)\n",
    "  generated_caption = processor.batch_decode(generated_ids, skip_special_tokens=True)[0]\n",
    "  fig.add_subplot(2, 3, i+1)\n",
    "  plt.imshow(image)\n",
    "  plt.axis(\"off\")\n",
    "  plt.title(f\"Generated caption: {generated_caption}\")"
   ]
  }
 ],
 "metadata": {
  "language_info": {
   "name": "python"
  }
 },
 "nbformat": 4,
 "nbformat_minor": 2
}
